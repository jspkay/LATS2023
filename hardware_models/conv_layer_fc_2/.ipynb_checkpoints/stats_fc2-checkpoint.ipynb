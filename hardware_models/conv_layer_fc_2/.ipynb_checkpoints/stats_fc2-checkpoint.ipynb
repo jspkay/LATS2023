{
 "cells": [
  {
   "cell_type": "markdown",
   "id": "b59ec2a9-cf07-47cd-9bd2-ffb848a260dd",
   "metadata": {},
   "source": [
    "# Setup"
   ]
  },
  {
   "cell_type": "code",
   "execution_count": 3,
   "id": "f8489885-ad60-46be-b0b2-18ac99b7804d",
   "metadata": {},
   "outputs": [],
   "source": [
    "# Imports\n",
    "from pprint import pprint\n",
    "from copy import copy\n",
    "import sqlite3 as sql\n",
    "import matplotlib.pyplot as plt\n",
    "from bitarray import bitarray\n",
    "from collections import Counter"
   ]
  },
  {
   "cell_type": "code",
   "execution_count": 4,
   "id": "408769f9-5f6d-497d-a498-2486b0dd4e92",
   "metadata": {
    "tags": []
   },
   "outputs": [
    {
     "name": "stdout",
     "output_type": "stream",
     "text": [
      "DONE\n"
     ]
    }
   ],
   "source": [
    "def arrayEquals(a1, a2):\n",
    "    if len(a1) != len(a2):\n",
    "        return False\n",
    "    else:\n",
    "        for i in range(len(a1)):\n",
    "            if a1[i] != a2[i]:\n",
    "                return False\n",
    "    return True\n",
    "\n",
    "def binaryRap(value):\n",
    "    res = [0 for i in range(8)]\n",
    "    if value >= 0:\n",
    "        tmp = 0\n",
    "        for i in range(1,8):\n",
    "            j = 7-i\n",
    "            if tmp + 2 ** j <= value:\n",
    "                tmp += 2 ** j\n",
    "                res[j] = 1\n",
    "    else:\n",
    "        tmp = -128\n",
    "        res[7] = 1\n",
    "        for i in range(1,8):\n",
    "            j = 7-i\n",
    "            if tmp + 2 ** j <= value:\n",
    "                tmp += 2 ** j\n",
    "                res[j] = 1\n",
    "    return res\n",
    "\n",
    "mydb_c = sql.connect(\"my.db\")\n",
    "mydb_c.row_factory = sql.Row\n",
    "mydb = mydb_c.cursor()\n",
    "gold_c = sql.connect(\"data/gold.db\")\n",
    "gold = gold_c.cursor()\n",
    "print(\"DONE\")"
   ]
  },
  {
   "cell_type": "markdown",
   "id": "92327357-ceda-4594-bb51-48a8900b897e",
   "metadata": {},
   "source": [
    "All the weights are in the ragne -"
   ]
  },
  {
   "cell_type": "markdown",
   "id": "977150f3-10f7-4379-a4fe-245471d06f9f",
   "metadata": {},
   "source": [
    "# Preliminary Data"
   ]
  },
  {
   "cell_type": "markdown",
   "id": "7dc40611-7355-462c-88b1-d8459f66616d",
   "metadata": {},
   "source": [
    "Collecting weights distributions"
   ]
  },
  {
   "cell_type": "code",
   "execution_count": 5,
   "id": "7c8aaa01-b817-4ef6-bae0-2473ecd52603",
   "metadata": {},
   "outputs": [
    {
     "ename": "FileNotFoundError",
     "evalue": "[Errno 2] No such file or directory: 'weights.dat'",
     "output_type": "error",
     "traceback": [
      "\u001b[0;31m---------------------------------------------------------------------------\u001b[0m",
      "\u001b[0;31mFileNotFoundError\u001b[0m                         Traceback (most recent call last)",
      "Cell \u001b[0;32mIn [5], line 1\u001b[0m\n\u001b[0;32m----> 1\u001b[0m f \u001b[38;5;241m=\u001b[39m \u001b[38;5;28mopen\u001b[39m(\u001b[38;5;124m\"\u001b[39m\u001b[38;5;124mweights.dat\u001b[39m\u001b[38;5;124m\"\u001b[39m)\n\u001b[1;32m      2\u001b[0m weights \u001b[38;5;241m=\u001b[39m []\n\u001b[1;32m      3\u001b[0m line \u001b[38;5;241m=\u001b[39m f\u001b[38;5;241m.\u001b[39mreadline()\n",
      "\u001b[0;31mFileNotFoundError\u001b[0m: [Errno 2] No such file or directory: 'weights.dat'"
     ]
    }
   ],
   "source": [
    "f = open(\"weights.dat\")\n",
    "weights = []\n",
    "line = f.readline()\n",
    "while len(line) != 0:\n",
    "    if \"weights\" in line:\n",
    "        pass\n",
    "    else:\n",
    "        weights.extend(line.replace(\",\\n\", \"\").replace(\"\\n\", \"\").replace(\" \", \"\").replace(\";\", \"\").replace(\"{\", \"\").replace(\"}\", \"\").split(\",\"))\n",
    "    line = f.readline()\n",
    "f.close()\n",
    "    \n",
    "weights = [int(i) for i in weights]\n",
    "print(len(weights))\n",
    "\n",
    "weightsBin = [binaryRap(i) for i in weights]\n",
    "#pprint(weightsBin)\n",
    "\n",
    "frequencies = [0 for i in range(8)]\n",
    "for i in range(0, 8):\n",
    "    frequencies[i] = 0\n",
    "    for el in weightsBin:\n",
    "        frequencies[i] += 1 if el[i] == 0 else 0\n",
    "print(sum(frequencies))\n",
    "f = plt.figure()\n",
    "f.set_figheight(2)\n",
    "plt.suptitle(\"bit's weights distribution\")\n",
    "plt.bar(range(1,9), frequencies)\n",
    "plt.show()\n",
    "\n",
    "n_range = 15\n",
    "e_min = min(weights)\n",
    "e_max = max(weights)\n",
    "print(\"Range is: [{}, {}]\". format(e_min, e_max))\n",
    "rrr = (e_max - e_min) / n_range\n",
    "weightsDistrBuckets = {}\n",
    "for i in range(n_range):\n",
    "    tmp = filter(lambda j: j>=i*rrr+e_min and j<(i+1)*rrr+e_min, weights)\n",
    "    weightsDistrBuckets.update({i*rrr+e_min: len(list(tmp))})\n",
    "    \n",
    "weightsDistrBuckets[list(weightsDistrBuckets.keys())[-1]] += len(list(filter(lambda i: i>=n_range*rrr+e_min, weights))) # Last element \n",
    "    \n",
    "print(\"Total is: \"+ str(sum(weightsDistrBuckets.values())) + \" (should be 150)\")\n",
    "    \n",
    "f = plt.figure()\n",
    "f.set_figheight(2)\n",
    "ax = plt.bar([\"{:.1f} to {:.1f}\".format(i*rrr+e_min, (i+1)*rrr+e_min) for i in range(n_range)], weightsDistrBuckets.values())\n",
    "#ax.bar_label([\"{:.1f}-{:.1f}\".format()])\n",
    "plt.suptitle(\"Weights's distribution\")\n",
    "plt.xticks(rotation=60, ha='right')\n",
    "plt.show()"
   ]
  },
  {
   "cell_type": "markdown",
   "id": "20c66834-f1bc-4d9c-ad1a-f130d7e65c76",
   "metadata": {},
   "source": [
    "## Vertical depth faults distribuions"
   ]
  },
  {
   "cell_type": "code",
   "execution_count": 6,
   "id": "d1ed4181-d2c2-442c-b795-fecc43eb2268",
   "metadata": {
    "tags": []
   },
   "outputs": [
    {
     "data": {
      "image/png": "[encoded data removed]",
      "text/plain": [
       "<Figure size 640x200 with 1 Axes>"
      ]
     },
     "metadata": {},
     "output_type": "display_data"
    }
   ],
   "source": [
    "# vertial value faults barchart\n",
    "mydb.execute(\"select p1 from faults\")\n",
    "row = mydb.fetchone()[0]\n",
    "faultDepths = {}\n",
    "while row is not None:\n",
    "    if row in faultDepths:\n",
    "        faultDepths[row] += 1\n",
    "    else:\n",
    "        faultDepths.update({row : 1})\n",
    "\n",
    "    row = mydb.fetchone()\n",
    "    if row is not None:\n",
    "        row = row[0]\n",
    "#pprint(faultDepths)\n",
    "f = plt.figure()\n",
    "f.set_figheight(2)\n",
    "plt.bar(faultDepths.keys(), faultDepths.values())\n",
    "plt.suptitle(\"Fault distribuition based on vertical depth\")\n",
    "plt.show()"
   ]
  },
  {
   "cell_type": "markdown",
   "id": "5e4ac7d9-5eea-424b-91b6-a5b0a7d8200f",
   "metadata": {},
   "source": [
    "# Statistical analysis"
   ]
  },
  {
   "cell_type": "code",
   "execution_count": 9,
   "id": "b060ba15-0bf3-4d16-b6d5-fa355d92d247",
   "metadata": {},
   "outputs": [],
   "source": [
    "### Statistics variables\n",
    "# masked, good, accept, warning, critical\n",
    "safety = [0, 0, 0, 0, 0]\n",
    "# safety per channel. It is a dictionary devided by \n",
    "safetyPerChannel = [{},{},{},{},{}]\n",
    "channelsTot = [0 for i in range(6)]\n",
    "# vertical depth safety (only accept, warning and critical)\n",
    "vertSafety = {0: {}, 1: {}, 2: {}, 3: {}, 4: {}}\n",
    "# horizontal depth safety (only accept, warning and critical)\n",
    "horSafety = {0: {}, 1: {}, 2: {}, 3: {}, 4: {}}\n",
    "# bit position safety\n",
    "bitPosSafety = {i:{} for i in range(5)}\n",
    "# safety based on stimulus\n",
    "stimuliSafety = {i:{} for i in range(5)}\n",
    "# Total injection-stimulus pairs\n",
    "total = 0\n",
    "\n",
    "mydb.execute(\"select * from faults as f, injections as i, stimuli as s where i.stimulus_id = s.id and stimulus_id <= 1000 and i.fault_id=f.id order by stimulus_id\")\n",
    "# Order is id, channel, type, p1, p2, bit, value, stimulus_id, fault_id, probs...\n",
    "row = mydb.fetchone()\n",
    "\n",
    "#Indeces\n",
    "rowKeys = row.keys()\n",
    "probs_start_index = rowKeys.index(\"prob0\")\n",
    "channel_index = rowKeys.index(\"channel\")\n",
    "fault_index = rowKeys.index(\"fault_id\")\n",
    "stimulus_index = rowKeys.index(\"stimulus_id\")\n",
    "rowP_index = rowKeys.index(\"p1\")\n",
    "colP_index = rowKeys.index(\"p2\")\n",
    "bit_index = rowKeys.index(\"bit\")\n",
    "label_index = rowKeys.index(\"label\")\n",
    "\n",
    "row = tuple(row)\n",
    "gold_stim = -1\n",
    "while row is not None:\n",
    "    stimulus = row[stimulus_index]\n",
    "    fault  = row[fault_index]\n",
    "    probs = row[probs_start_index:probs_start_index+10]\n",
    "    channel = row[channel_index]\n",
    "    rowP = row[rowP_index]\n",
    "    colP = row[colP_index]\n",
    "    bit = row[bit_index]\n",
    "    label = row[label_index]\n",
    "    \n",
    "    total = total + 1\n",
    "    if stimulus != gold_stim:\n",
    "        gold.execute(\"select * from gold where stimulus = {}\".format(stimulus))\n",
    "        grow = gold.fetchone()\n",
    "        [gold_stim, gold_probs] = [grow[0], grow[1:]]\n",
    "        gold_pred = max(gold_probs)\n",
    "        gold_label =  gold_probs.index(gold_pred)\n",
    "\n",
    "    pred = max(probs)\n",
    "    pred_label = probs.index(pred)\n",
    "\n",
    "    # Masked\n",
    "    if arrayEquals(probs, gold_probs):\n",
    "        ftype = 0\n",
    "    elif pred >= gold_pred and gold_label == pred_label: # good\n",
    "        ftype = 1\n",
    "    elif gold_label == pred_label and abs(pred-gold_pred)/gold_pred >= .05: # accept\n",
    "        ftype = 2\n",
    "    elif gold_label == pred_label: # warning\n",
    "        ftype = 3\n",
    "    else: # critical\n",
    "        ftype = 4\n",
    "\n",
    "    # General safety\n",
    "    safety[ftype] += 1\n",
    "    # Channel related\n",
    "    if channel in safetyPerChannel[ftype]:\n",
    "        safetyPerChannel[ftype][channel] += 1\n",
    "    else:\n",
    "        safetyPerChannel[ftype].update({channel: 1})\n",
    "    channelsTot[channel-1] += 1\n",
    "    \n",
    "    #vertical safety\n",
    "    if rowP in vertSafety[ftype]:\n",
    "        vertSafety[ftype][rowP] += 1\n",
    "    else:\n",
    "        vertSafety[ftype].update({rowP : 1})\n",
    "    \n",
    "    # horizontal safety\n",
    "    if colP in horSafety[ftype]:\n",
    "        horSafety[ftype][colP] += 1\n",
    "    else:\n",
    "        horSafety[ftype].update({colP: 1})\n",
    "    \n",
    "    #bit positions\n",
    "    if bit in bitPosSafety[ftype]:\n",
    "        bitPosSafety[ftype][bit] += 1\n",
    "    else:\n",
    "        bitPosSafety[ftype].update({bit : 1})   \n",
    "\n",
    "    # stimului safety\n",
    "    if label in stimuliSafety[ftype]:\n",
    "        stimuliSafety[ftype][label] += 1\n",
    "    else:\n",
    "        stimuliSafety[ftype].update({label: 1})\n",
    "\n",
    "\n",
    "    row = mydb.fetchone()\n",
    "    if row is not None:\n",
    "        row = tuple(row)"
   ]
  },
  {
   "cell_type": "markdown",
   "id": "438083ed-48c5-4108-bc9a-299f278853c1",
   "metadata": {},
   "source": [
    "# Stats visualization"
   ]
  },
  {
   "cell_type": "markdown",
   "id": "4c21843d-22c4-4377-b082-7911f55711ae",
   "metadata": {},
   "source": [
    "## General safety"
   ]
  },
  {
   "cell_type": "code",
   "execution_count": 10,
   "id": "453a0059-accb-4660-be12-32a002e6a1a7",
   "metadata": {},
   "outputs": [
    {
     "name": "stdout",
     "output_type": "stream",
     "text": [
      "Masked: 84.99%\n",
      "good: 8.61\n",
      "accept: 0.25%\n",
      "warning: 6.14%\n",
      "critical: 0.01%\n",
      "\n"
     ]
    }
   ],
   "source": [
    "# General statistics\n",
    "perc = [s / total * 100 for s in safety]\n",
    "print(\"Masked: {:.2f}%\\ngood: {:.2f}\\naccept: {:.2f}%\\nwarning: {:.2f}%\\ncritical: {:.2f}%\\n\".format(perc[0], perc[1], perc[2], perc[3], perc[4]))"
   ]
  },
  {
   "cell_type": "markdown",
   "id": "c18a820d-2365-4581-93f6-34067a95d046",
   "metadata": {},
   "source": [
    "## Per-channel safety"
   ]
  },
  {
   "cell_type": "code",
   "execution_count": 11,
   "id": "0cc9708a-d9b9-4838-aaa9-3fd1c05e9ba9",
   "metadata": {
    "tags": []
   },
   "outputs": [
    {
     "data": {
      "image/png": "[encoded data removed]",
      "text/plain": [
       "<Figure size 640x100 with 1 Axes>"
      ]
     },
     "metadata": {},
     "output_type": "display_data"
    },
    {
     "data": {
      "image/png": "[encoded data removed]",
      "text/plain": [
       "<Figure size 640x100 with 1 Axes>"
      ]
     },
     "metadata": {},
     "output_type": "display_data"
    },
    {
     "data": {
      "image/png": "[encoded data removed]",
      "text/plain": [
       "<Figure size 640x100 with 1 Axes>"
      ]
     },
     "metadata": {},
     "output_type": "display_data"
    },
    {
     "data": {
      "image/png": "[encoded data removed]",
      "text/plain": [
       "<Figure size 640x100 with 1 Axes>"
      ]
     },
     "metadata": {},
     "output_type": "display_data"
    },
    {
     "data": {
      "image/png": "[encoded data removed]",
      "text/plain": [
       "<Figure size 640x100 with 1 Axes>"
      ]
     },
     "metadata": {},
     "output_type": "display_data"
    }
   ],
   "source": [
    "# Per Channel \n",
    "for el in safetyPerChannel:\n",
    "    f = plt.figure()\n",
    "    plt.bar(el.keys(), el.values())\n",
    "    f.set_figheight(1)\n",
    "    plt.show()"
   ]
  },
  {
   "cell_type": "code",
   "execution_count": 12,
   "id": "2fc80696-9679-4bc4-b142-89081e6866fd",
   "metadata": {},
   "outputs": [
    {
     "data": {
      "image/png": "[encoded data removed]",
      "text/plain": [
       "<Figure size 640x200 with 1 Axes>"
      ]
     },
     "metadata": {},
     "output_type": "display_data"
    },
    {
     "data": {
      "image/png": "[encoded data removed]",
      "text/plain": [
       "<Figure size 640x200 with 1 Axes>"
      ]
     },
     "metadata": {},
     "output_type": "display_data"
    },
    {
     "data": {
      "image/png": "[encoded data removed]",
      "text/plain": [
       "<Figure size 640x200 with 1 Axes>"
      ]
     },
     "metadata": {},
     "output_type": "display_data"
    },
    {
     "data": {
      "image/png": "[encoded data removed]",
      "text/plain": [
       "<Figure size 640x200 with 1 Axes>"
      ]
     },
     "metadata": {},
     "output_type": "display_data"
    },
    {
     "data": {
      "image/png": "[encoded data removed]",
      "text/plain": [
       "<Figure size 640x200 with 1 Axes>"
      ]
     },
     "metadata": {},
     "output_type": "display_data"
    }
   ],
   "source": [
    "# Vertical\n",
    "#pprint(vertSafety)\n",
    "for el in vertSafety.values():\n",
    "    f = plt.figure()\n",
    "    f.set_figheight(2)\n",
    "    plt.bar(el.keys(), el.values())\n",
    "    plt.show() "
   ]
  },
  {
   "cell_type": "markdown",
   "id": "f2114da1-f3a1-4eee-9d4e-14f5746fa1d7",
   "metadata": {},
   "source": [
    "As expected, the smaller the depth, the more faults will be associated. Note also that most of the critical errors come from the first 9 rows."
   ]
  },
  {
   "cell_type": "code",
   "execution_count": 13,
   "id": "74a63f7e-e704-48d1-b2cc-c4bd3f2a7465",
   "metadata": {},
   "outputs": [
    {
     "data": {
      "image/png": "[encoded data removed]",
      "text/plain": [
       "<Figure size 640x200 with 1 Axes>"
      ]
     },
     "metadata": {},
     "output_type": "display_data"
    },
    {
     "data": {
      "image/png": "[encoded data removed]",
      "text/plain": [
       "<Figure size 640x200 with 1 Axes>"
      ]
     },
     "metadata": {},
     "output_type": "display_data"
    },
    {
     "data": {
      "image/png": "[encoded data removed]",
      "text/plain": [
       "<Figure size 640x200 with 1 Axes>"
      ]
     },
     "metadata": {},
     "output_type": "display_data"
    },
    {
     "data": {
      "image/png": "[encoded data removed]",
      "text/plain": [
       "<Figure size 640x200 with 1 Axes>"
      ]
     },
     "metadata": {},
     "output_type": "display_data"
    },
    {
     "data": {
      "image/png": "[encoded data removed]",
      "text/plain": [
       "<Figure size 640x200 with 1 Axes>"
      ]
     },
     "metadata": {},
     "output_type": "display_data"
    }
   ],
   "source": [
    "# Horizontal\n",
    "for el in horSafety.values():\n",
    "    f = plt.figure()\n",
    "    f.set_figheight(2)\n",
    "    plt.bar(el.keys(), el.values())\n",
    "    plt.show() "
   ]
  },
  {
   "cell_type": "markdown",
   "id": "c07e2358-3382-4231-9f2f-681901d5ea61",
   "metadata": {},
   "source": [
    "## Bit position"
   ]
  },
  {
   "cell_type": "code",
   "execution_count": 14,
   "id": "cc0acf75-f81d-4170-ac65-762889264492",
   "metadata": {},
   "outputs": [
    {
     "data": {
      "image/png": "[encoded data removed]",
      "text/plain": [
       "<Figure size 640x200 with 1 Axes>"
      ]
     },
     "metadata": {},
     "output_type": "display_data"
    },
    {
     "data": {
      "image/png": "[encoded data removed]",
      "text/plain": [
       "<Figure size 640x200 with 1 Axes>"
      ]
     },
     "metadata": {},
     "output_type": "display_data"
    },
    {
     "data": {
      "image/png": "[encoded data removed]",
      "text/plain": [
       "<Figure size 640x200 with 1 Axes>"
      ]
     },
     "metadata": {},
     "output_type": "display_data"
    },
    {
     "data": {
      "image/png": "[encoded data removed]",
      "text/plain": [
       "<Figure size 640x200 with 1 Axes>"
      ]
     },
     "metadata": {},
     "output_type": "display_data"
    },
    {
     "data": {
      "image/png": "[encoded data removed]",
      "text/plain": [
       "<Figure size 640x200 with 1 Axes>"
      ]
     },
     "metadata": {},
     "output_type": "display_data"
    }
   ],
   "source": [
    "# Bit Position\n",
    "for el in bitPosSafety.values():\n",
    "    f = plt.figure()\n",
    "    f.set_figheight(2)\n",
    "    plt.bar(el.keys(), el.values())\n",
    "    plt.show()"
   ]
  },
  {
   "cell_type": "markdown",
   "id": "2ade2fc3-9455-40ff-a8d2-d9815f5c591b",
   "metadata": {},
   "source": [
    "## Aggregate bit positions (unsafe - 2,3,4)"
   ]
  },
  {
   "cell_type": "code",
   "execution_count": 15,
   "id": "37d76379-c35e-4522-b64f-00fc34e574c2",
   "metadata": {},
   "outputs": [
    {
     "name": "stdout",
     "output_type": "stream",
     "text": [
      "{0: 37, 3: 92, 6: 41, 2: 46, 5: 31, 8: 80, 7: 78, 1: 57, 9: 31, 4: 15}\n",
      "{0: 596, 3: 2032, 6: 1290, 2: 1815, 5: 1275, 8: 1836, 7: 1074, 1: 1626, 9: 1338, 4: 436}\n"
     ]
    },
    {
     "data": {
      "image/png": "[encoded data removed]",
      "text/plain": [
       "<Figure size 640x200 with 1 Axes>"
      ]
     },
     "metadata": {},
     "output_type": "display_data"
    }
   ],
   "source": [
    "start = 2\n",
    "bitPosTot = copy(bitPosSafety[start])\n",
    "print( bitPosSafety[start])\n",
    "for i in range(start,5):\n",
    "    for el in bitPosSafety[i].keys():\n",
    "        bitPosTot[el] += bitPosSafety[i][el]\n",
    "print(bitPosTot)\n",
    "f = plt.figure()\n",
    "f.set_figheight(2)\n",
    "plt.bar(bitPosTot.keys(), bitPosTot.values())\n",
    "plt.show()"
   ]
  },
  {
   "cell_type": "markdown",
   "id": "7c481af6-1a3d-4168-a21b-80af797bcec8",
   "metadata": {},
   "source": [
    "### Aggregate bit positions (2,3,4) normalized w.r.t. the number of injections per that bit"
   ]
  },
  {
   "cell_type": "code",
   "execution_count": 16,
   "id": "8e281f61-11d7-4221-8a59-a8d6fe01795b",
   "metadata": {},
   "outputs": [
    {
     "ename": "NameError",
     "evalue": "name 'faultBits' is not defined",
     "output_type": "error",
     "traceback": [
      "\u001b[0;31m---------------------------------------------------------------------------\u001b[0m",
      "\u001b[0;31mNameError\u001b[0m                                 Traceback (most recent call last)",
      "Cell \u001b[0;32mIn [16], line 1\u001b[0m\n\u001b[0;32m----> 1\u001b[0m bitPosNormalized \u001b[38;5;241m=\u001b[39m { i:\u001b[38;5;241m0\u001b[39m \u001b[38;5;28;01mfor\u001b[39;00m i \u001b[38;5;129;01min\u001b[39;00m faultBits\u001b[38;5;241m.\u001b[39mkeys() }\n\u001b[1;32m      2\u001b[0m \u001b[38;5;28;01mfor\u001b[39;00m key \u001b[38;5;129;01min\u001b[39;00m faultBits\u001b[38;5;241m.\u001b[39mkeys():\n\u001b[1;32m      3\u001b[0m     bitPosNormalized[key] \u001b[38;5;241m=\u001b[39m bitPosTot[key]\u001b[38;5;241m/\u001b[39mfaultBits[key]\n",
      "\u001b[0;31mNameError\u001b[0m: name 'faultBits' is not defined"
     ]
    }
   ],
   "source": [
    "bitPosNormalized = { i:0 for i in faultBits.keys() }\n",
    "for key in faultBits.keys():\n",
    "    bitPosNormalized[key] = bitPosTot[key]/faultBits[key]\n",
    "#pprint(bitPosNormalized)\n",
    "f = plt.figure()\n",
    "f.set_figheight(2)\n",
    "plt.bar(bitPosNormalized.keys(), bitPosNormalized.values())\n",
    "plt.show()"
   ]
  },
  {
   "cell_type": "markdown",
   "id": "30ca7fca-df60-403b-bbcb-dea124cc9f74",
   "metadata": {},
   "source": [
    "#### Bit depth faults distribution\n",
    "Note: in this context the heigher the number of the bit, the higher its importance. In other words, the MSB is bit 7"
   ]
  },
  {
   "cell_type": "code",
   "execution_count": null,
   "id": "f2c035f4-eb24-476a-b4b8-2f88a4584739",
   "metadata": {},
   "outputs": [],
   "source": [
    "mydb.execute(\"select bit from faults\")\n",
    "row = mydb.fetchone()[0]\n",
    "faultBits = {}\n",
    "while row is not None:\n",
    "    if row in faultBits:\n",
    "        faultBits[row] += 1\n",
    "    else:\n",
    "        faultBits.update({row : 1})\n",
    "\n",
    "    row = mydb.fetchone()\n",
    "    if row is not None:\n",
    "        row = row[0]\n",
    "#pprint(faultDepths)\n",
    "f = plt.figure()\n",
    "f.set_figheight(2)\n",
    "plt.bar(faultBits.keys(), faultBits.values())\n",
    "plt.suptitle(\"Fault distribuition based on bit position\")\n",
    "plt.show()\n",
    "print(sum(faultBits.values()))"
   ]
  },
  {
   "cell_type": "markdown",
   "id": "56d0dffc-9fc1-46b0-b6de-cd2dbf5c309d",
   "metadata": {},
   "source": [
    "Clearly, bits 6,7,8 are the least problematic, since they are the least important. On the other hand, bit 4 seems to be the most \"weak\" bit followd by bit 2 and 3. Looking at bits distribution in the weights, "
   ]
  },
  {
   "cell_type": "markdown",
   "id": "99d63fcd-2f38-4fef-9696-1d6a6c8679da",
   "metadata": {},
   "source": [
    "## Aggregate bit positions (all types)"
   ]
  },
  {
   "cell_type": "code",
   "execution_count": null,
   "id": "e617f02a-3fc2-4233-855e-cc03a4a43dca",
   "metadata": {},
   "outputs": [],
   "source": [
    "start = 0\n",
    "bitPosTot = copy(bitPosSafety[start])\n",
    "for i in range(start,5):\n",
    "    for el in bitPosSafety[i].keys():\n",
    "        bitPosTot[el] += bitPosSafety[i][el]\n",
    "print(bitPosTot)\n",
    "f = plt.figure()\n",
    "f.set_figheight(2)\n",
    "plt.bar(bitPosTot.keys(), bitPosTot.values())\n",
    "plt.show()"
   ]
  },
  {
   "cell_type": "code",
   "execution_count": null,
   "id": "1388d90c-f363-473f-a67e-57318f8f932b",
   "metadata": {},
   "outputs": [],
   "source": [
    "# NON STA FUNZIONANDO E NON SO IL PERCHÈ!\n",
    "# Mi aspetto che la distribuzione \n",
    "\n",
    "totBits = sum(bitPosTot.values())\n",
    "tot = sum(faultBits.values())\n",
    "print([el / totBits for el in bitPosTot.values()])\n",
    "print([el / tot for el in faultBits.values()])"
   ]
  },
  {
   "cell_type": "markdown",
   "id": "b7fe8b53-9f2c-4bc7-8494-f5bc2d4ceb73",
   "metadata": {},
   "source": [
    "## fault types w,r,t stimuli"
   ]
  },
  {
   "cell_type": "code",
   "execution_count": null,
   "id": "2583ebf1-bab4-4a55-87d8-021ea9d3c6a8",
   "metadata": {},
   "outputs": [],
   "source": [
    "for el in stimuliSafety.values():\n",
    "    f = plt.figure()\n",
    "    f.set_figheight(2)\n",
    "    plt.bar(el.keys(), el.values())\n",
    "    plt.show()"
   ]
  },
  {
   "cell_type": "code",
   "execution_count": null,
   "id": "265c42f2-3513-4998-b242-03c9d5d69083",
   "metadata": {},
   "outputs": [],
   "source": []
  },
  {
   "cell_type": "code",
   "execution_count": null,
   "id": "a35f089c-2dd7-4627-aa21-3a6f2d3d9048",
   "metadata": {},
   "outputs": [],
   "source": []
  },
  {
   "cell_type": "code",
   "execution_count": null,
   "id": "8b51908f-414d-4c52-9143-d9469997a9e4",
   "metadata": {},
   "outputs": [],
   "source": []
  },
  {
   "cell_type": "code",
   "execution_count": null,
   "id": "e0b5de9c-3827-48a5-8926-c39d371f1aee",
   "metadata": {},
   "outputs": [],
   "source": []
  },
  {
   "cell_type": "code",
   "execution_count": null,
   "id": "f16b7660-c3e4-4189-86ff-8da3086b3a04",
   "metadata": {},
   "outputs": [],
   "source": []
  }
 ],
 "metadata": {
  "kernelspec": {
   "display_name": "Python 3 (ipykernel)",
   "language": "python",
   "name": "python3"
  },
  "language_info": {
   "codemirror_mode": {
    "name": "ipython",
    "version": 3
   },
   "file_extension": ".py",
   "mimetype": "text/x-python",
   "name": "python",
   "nbconvert_exporter": "python",
   "pygments_lexer": "ipython3",
   "version": "3.10.6"
  }
 },
 "nbformat": 4,
 "nbformat_minor": 5
}
